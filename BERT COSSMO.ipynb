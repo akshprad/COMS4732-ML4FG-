{
  "cells": [
    {
      "cell_type": "code",
      "execution_count": 1,
      "metadata": {
        "colab": {
          "base_uri": "https://localhost:8080/"
        },
        "id": "i6RXey8_LYZJ",
        "outputId": "4bfad63d-59c5-4a9c-b4f4-a2c9165229c8"
      },
      "outputs": [
        {
          "output_type": "stream",
          "name": "stdout",
          "text": [
            "Mounted at /content/drive\n"
          ]
        }
      ],
      "source": [
        "from google.colab import drive\n",
        "drive.mount('/content/drive', force_remount=True)"
      ]
    },
    {
      "cell_type": "code",
      "execution_count": 1,
      "metadata": {
        "id": "oQhJ3f70LZbL"
      },
      "outputs": [],
      "source": [
        "import sys\n",
        "sys.path.append('/content/drive/MyDrive/Project ML4G/Datasets/COSSMO-master')"
      ]
    },
    {
      "cell_type": "code",
      "execution_count": 2,
      "metadata": {
        "colab": {
          "base_uri": "https://localhost:8080/"
        },
        "id": "kS5J6c6bLgLr",
        "outputId": "de3c9efd-8253-4c7f-a03d-19040fd89359"
      },
      "outputs": [
        {
          "output_type": "stream",
          "name": "stdout",
          "text": [
            "/content/drive/.shortcut-targets-by-id/1IFxH24jnJdKU2y63mQgWulQTQm3Ou62f/Project ML4G/Datasets/COSSMO-master\n"
          ]
        }
      ],
      "source": [
        "cd /content/drive/MyDrive/Project ML4G/Datasets/COSSMO-master"
      ]
    },
    {
      "cell_type": "code",
      "execution_count": 3,
      "metadata": {
        "id": "DCO8GnA_LiF8"
      },
      "outputs": [],
      "source": [
        "import bin\n",
        "import yaml\n"
      ]
    },
    {
      "cell_type": "code",
      "source": [
        "!pip install pyyaml==5.4.1"
      ],
      "metadata": {
        "colab": {
          "base_uri": "https://localhost:8080/",
          "height": 256
        },
        "id": "TGobC-Mjy_l-",
        "outputId": "3a42ff7c-df4a-490e-f072-3a609cdd1e78"
      },
      "execution_count": 6,
      "outputs": [
        {
          "output_type": "stream",
          "name": "stdout",
          "text": [
            "Collecting pyyaml==5.4.1\n",
            "  Downloading PyYAML-5.4.1-cp37-cp37m-manylinux1_x86_64.whl (636 kB)\n",
            "\u001b[?25l\r\u001b[K     |▌                               | 10 kB 23.8 MB/s eta 0:00:01\r\u001b[K     |█                               | 20 kB 28.1 MB/s eta 0:00:01\r\u001b[K     |█▌                              | 30 kB 34.8 MB/s eta 0:00:01\r\u001b[K     |██                              | 40 kB 30.8 MB/s eta 0:00:01\r\u001b[K     |██▋                             | 51 kB 19.7 MB/s eta 0:00:01\r\u001b[K     |███                             | 61 kB 22.0 MB/s eta 0:00:01\r\u001b[K     |███▋                            | 71 kB 23.6 MB/s eta 0:00:01\r\u001b[K     |████▏                           | 81 kB 25.5 MB/s eta 0:00:01\r\u001b[K     |████▋                           | 92 kB 27.9 MB/s eta 0:00:01\r\u001b[K     |█████▏                          | 102 kB 24.7 MB/s eta 0:00:01\r\u001b[K     |█████▋                          | 112 kB 24.7 MB/s eta 0:00:01\r\u001b[K     |██████▏                         | 122 kB 24.7 MB/s eta 0:00:01\r\u001b[K     |██████▊                         | 133 kB 24.7 MB/s eta 0:00:01\r\u001b[K     |███████▏                        | 143 kB 24.7 MB/s eta 0:00:01\r\u001b[K     |███████▊                        | 153 kB 24.7 MB/s eta 0:00:01\r\u001b[K     |████████▎                       | 163 kB 24.7 MB/s eta 0:00:01\r\u001b[K     |████████▊                       | 174 kB 24.7 MB/s eta 0:00:01\r\u001b[K     |█████████▎                      | 184 kB 24.7 MB/s eta 0:00:01\r\u001b[K     |█████████▉                      | 194 kB 24.7 MB/s eta 0:00:01\r\u001b[K     |██████████▎                     | 204 kB 24.7 MB/s eta 0:00:01\r\u001b[K     |██████████▉                     | 215 kB 24.7 MB/s eta 0:00:01\r\u001b[K     |███████████▎                    | 225 kB 24.7 MB/s eta 0:00:01\r\u001b[K     |███████████▉                    | 235 kB 24.7 MB/s eta 0:00:01\r\u001b[K     |████████████▍                   | 245 kB 24.7 MB/s eta 0:00:01\r\u001b[K     |████████████▉                   | 256 kB 24.7 MB/s eta 0:00:01\r\u001b[K     |█████████████▍                  | 266 kB 24.7 MB/s eta 0:00:01\r\u001b[K     |██████████████                  | 276 kB 24.7 MB/s eta 0:00:01\r\u001b[K     |██████████████▍                 | 286 kB 24.7 MB/s eta 0:00:01\r\u001b[K     |███████████████                 | 296 kB 24.7 MB/s eta 0:00:01\r\u001b[K     |███████████████▍                | 307 kB 24.7 MB/s eta 0:00:01\r\u001b[K     |████████████████                | 317 kB 24.7 MB/s eta 0:00:01\r\u001b[K     |████████████████▌               | 327 kB 24.7 MB/s eta 0:00:01\r\u001b[K     |█████████████████               | 337 kB 24.7 MB/s eta 0:00:01\r\u001b[K     |█████████████████▌              | 348 kB 24.7 MB/s eta 0:00:01\r\u001b[K     |██████████████████              | 358 kB 24.7 MB/s eta 0:00:01\r\u001b[K     |██████████████████▌             | 368 kB 24.7 MB/s eta 0:00:01\r\u001b[K     |███████████████████             | 378 kB 24.7 MB/s eta 0:00:01\r\u001b[K     |███████████████████▋            | 389 kB 24.7 MB/s eta 0:00:01\r\u001b[K     |████████████████████            | 399 kB 24.7 MB/s eta 0:00:01\r\u001b[K     |████████████████████▋           | 409 kB 24.7 MB/s eta 0:00:01\r\u001b[K     |█████████████████████           | 419 kB 24.7 MB/s eta 0:00:01\r\u001b[K     |█████████████████████▋          | 430 kB 24.7 MB/s eta 0:00:01\r\u001b[K     |██████████████████████▏         | 440 kB 24.7 MB/s eta 0:00:01\r\u001b[K     |██████████████████████▋         | 450 kB 24.7 MB/s eta 0:00:01\r\u001b[K     |███████████████████████▏        | 460 kB 24.7 MB/s eta 0:00:01\r\u001b[K     |███████████████████████▊        | 471 kB 24.7 MB/s eta 0:00:01\r\u001b[K     |████████████████████████▏       | 481 kB 24.7 MB/s eta 0:00:01\r\u001b[K     |████████████████████████▊       | 491 kB 24.7 MB/s eta 0:00:01\r\u001b[K     |█████████████████████████▏      | 501 kB 24.7 MB/s eta 0:00:01\r\u001b[K     |█████████████████████████▊      | 512 kB 24.7 MB/s eta 0:00:01\r\u001b[K     |██████████████████████████▎     | 522 kB 24.7 MB/s eta 0:00:01\r\u001b[K     |██████████████████████████▊     | 532 kB 24.7 MB/s eta 0:00:01\r\u001b[K     |███████████████████████████▎    | 542 kB 24.7 MB/s eta 0:00:01\r\u001b[K     |███████████████████████████▉    | 552 kB 24.7 MB/s eta 0:00:01\r\u001b[K     |████████████████████████████▎   | 563 kB 24.7 MB/s eta 0:00:01\r\u001b[K     |████████████████████████████▉   | 573 kB 24.7 MB/s eta 0:00:01\r\u001b[K     |█████████████████████████████▍  | 583 kB 24.7 MB/s eta 0:00:01\r\u001b[K     |█████████████████████████████▉  | 593 kB 24.7 MB/s eta 0:00:01\r\u001b[K     |██████████████████████████████▍ | 604 kB 24.7 MB/s eta 0:00:01\r\u001b[K     |██████████████████████████████▉ | 614 kB 24.7 MB/s eta 0:00:01\r\u001b[K     |███████████████████████████████▍| 624 kB 24.7 MB/s eta 0:00:01\r\u001b[K     |████████████████████████████████| 634 kB 24.7 MB/s eta 0:00:01\r\u001b[K     |████████████████████████████████| 636 kB 24.7 MB/s \n",
            "\u001b[?25hInstalling collected packages: pyyaml\n",
            "  Attempting uninstall: pyyaml\n",
            "    Found existing installation: PyYAML 6.0\n",
            "    Uninstalling PyYAML-6.0:\n",
            "      Successfully uninstalled PyYAML-6.0\n",
            "Successfully installed pyyaml-5.4.1\n"
          ]
        },
        {
          "output_type": "display_data",
          "data": {
            "application/vnd.colab-display-data+json": {
              "pip_warning": {
                "packages": [
                  "yaml"
                ]
              }
            }
          },
          "metadata": {}
        }
      ]
    },
    {
      "cell_type": "code",
      "execution_count": 4,
      "metadata": {
        "id": "bra_eVnsLkOD",
        "colab": {
          "base_uri": "https://localhost:8080/"
        },
        "outputId": "fb0247dc-d61a-4b34-ec39-9ed947871d86"
      },
      "outputs": [
        {
          "output_type": "stream",
          "name": "stderr",
          "text": [
            "/usr/local/lib/python3.7/dist-packages/ipykernel_launcher.py:3: YAMLLoadWarning: calling yaml.load() without Loader=... is deprecated, as the default Loader is unsafe. Please read https://msg.pyyaml.org/load for full details.\n",
            "  This is separate from the ipykernel package so we can avoid doing imports until\n"
          ]
        }
      ],
      "source": [
        "# stream = open('/content/drive/MyDrive/Project ML4G/Datasets/COSSMO-master/configuration_files/acceptor-basic_cossmo-config.yml', 'r')\n",
        "# configurations = list(yaml.load(stream))\n",
        "config1  = yaml.load(open('/content/drive/MyDrive/Project ML4G/Datasets/COSSMO-master/configuration_files/acceptor-basic_cossmo-config.yml', 'r'))"
      ]
    },
    {
      "cell_type": "code",
      "execution_count": 5,
      "metadata": {
        "colab": {
          "base_uri": "https://localhost:8080/"
        },
        "id": "5ko0mA2TLmFs",
        "outputId": "51b2d2fa-5a6d-448a-9d89-7fc4e517f776"
      },
      "outputs": [
        {
          "output_type": "execute_result",
          "data": {
            "text/plain": [
              "{'batch_sizes': [5, 3, 2, 1, 1, 1],\n",
              " 'buckets': [10, 15, 20, 50, 100],\n",
              " 'conv_params': [[24, 12, 1, 1, 1],\n",
              "  [12, 12, 1, 1, 1],\n",
              "  [12, 12, 1, 1, 1],\n",
              "  [12, 12, 1, 1, 1]],\n",
              " 'data_dir': '/content/drive/MyDrive/Project ML4G/Datasets/cossmo-acceptor-data.tar (Unzipped Files)',\n",
              " 'dataset_type': 'dynamic',\n",
              " 'dropout_keep_prob': 1.0,\n",
              " 'early_stopping_delay': 100000,\n",
              " 'event_type': 'acceptor',\n",
              " 'exonic_seq_length': 40,\n",
              " 'features': ['intron_length'],\n",
              " 'hidden_units': [100, 20],\n",
              " 'intronic_seq_length': 40,\n",
              " 'learning_rate': 0.0002,\n",
              " 'make_rundir': False,\n",
              " 'max_sgd_steps': 600005,\n",
              " 'n_outputs': 1,\n",
              " 'n_validation_files': 5,\n",
              " 'n_validation_steps': 1000,\n",
              " 'num_epochs': 1000,\n",
              " 'train_dir': '/content/drive/MyDrive/Project ML4G/Datasets/cossmo-acceptor-data.tar (Unzipped Files)/basic_cossmo/',\n",
              " 'use_intron_length': True,\n",
              " 'validation_frequency': 5000}"
            ]
          },
          "metadata": {},
          "execution_count": 5
        }
      ],
      "source": [
        "config1"
      ]
    },
    {
      "cell_type": "code",
      "execution_count": 6,
      "metadata": {
        "colab": {
          "base_uri": "https://localhost:8080/"
        },
        "id": "yGdrs_BXLnK3",
        "outputId": "00d13563-da5a-45e2-f7b7-4bd4ca980f8f"
      },
      "outputs": [
        {
          "output_type": "stream",
          "name": "stderr",
          "text": [
            "/usr/local/lib/python3.7/dist-packages/tensorflow/python/framework/dtypes.py:526: FutureWarning: Passing (type, 1) or '1type' as a synonym of type is deprecated; in a future version of numpy, it will be understood as (type, (1,)) / '(1,)type'.\n",
            "  _np_qint8 = np.dtype([(\"qint8\", np.int8, 1)])\n",
            "/usr/local/lib/python3.7/dist-packages/tensorflow/python/framework/dtypes.py:527: FutureWarning: Passing (type, 1) or '1type' as a synonym of type is deprecated; in a future version of numpy, it will be understood as (type, (1,)) / '(1,)type'.\n",
            "  _np_quint8 = np.dtype([(\"quint8\", np.uint8, 1)])\n",
            "/usr/local/lib/python3.7/dist-packages/tensorflow/python/framework/dtypes.py:528: FutureWarning: Passing (type, 1) or '1type' as a synonym of type is deprecated; in a future version of numpy, it will be understood as (type, (1,)) / '(1,)type'.\n",
            "  _np_qint16 = np.dtype([(\"qint16\", np.int16, 1)])\n",
            "/usr/local/lib/python3.7/dist-packages/tensorflow/python/framework/dtypes.py:529: FutureWarning: Passing (type, 1) or '1type' as a synonym of type is deprecated; in a future version of numpy, it will be understood as (type, (1,)) / '(1,)type'.\n",
            "  _np_quint16 = np.dtype([(\"quint16\", np.uint16, 1)])\n",
            "/usr/local/lib/python3.7/dist-packages/tensorflow/python/framework/dtypes.py:530: FutureWarning: Passing (type, 1) or '1type' as a synonym of type is deprecated; in a future version of numpy, it will be understood as (type, (1,)) / '(1,)type'.\n",
            "  _np_qint32 = np.dtype([(\"qint32\", np.int32, 1)])\n",
            "/usr/local/lib/python3.7/dist-packages/tensorflow/python/framework/dtypes.py:535: FutureWarning: Passing (type, 1) or '1type' as a synonym of type is deprecated; in a future version of numpy, it will be understood as (type, (1,)) / '(1,)type'.\n",
            "  np_resource = np.dtype([(\"resource\", np.ubyte, 1)])\n"
          ]
        }
      ],
      "source": [
        "import training_bin.train_cossmo as c"
      ]
    },
    {
      "cell_type": "code",
      "source": [
        "pip uninstall tensorflow\n"
      ],
      "metadata": {
        "colab": {
          "base_uri": "https://localhost:8080/"
        },
        "id": "_F1j95ORatRC",
        "outputId": "677a8128-a34b-492c-e60b-42ae49cde2e8"
      },
      "execution_count": 10,
      "outputs": [
        {
          "output_type": "stream",
          "name": "stdout",
          "text": [
            "Found existing installation: tensorflow 2.8.0\n",
            "Uninstalling tensorflow-2.8.0:\n",
            "  Would remove:\n",
            "    /usr/local/bin/estimator_ckpt_converter\n",
            "    /usr/local/bin/import_pb_to_tensorboard\n",
            "    /usr/local/bin/saved_model_cli\n",
            "    /usr/local/bin/tensorboard\n",
            "    /usr/local/bin/tf_upgrade_v2\n",
            "    /usr/local/bin/tflite_convert\n",
            "    /usr/local/bin/toco\n",
            "    /usr/local/bin/toco_from_protos\n",
            "    /usr/local/lib/python3.7/dist-packages/tensorflow-2.8.0.dist-info/*\n",
            "    /usr/local/lib/python3.7/dist-packages/tensorflow/*\n",
            "Proceed (y/n)? y\n",
            "  Successfully uninstalled tensorflow-2.8.0\n"
          ]
        }
      ]
    },
    {
      "cell_type": "code",
      "source": [
        "pip install tensorflow==1.13.2\n"
      ],
      "metadata": {
        "colab": {
          "base_uri": "https://localhost:8080/",
          "height": 854
        },
        "id": "eVlh2A2BaynI",
        "outputId": "27eb5520-f981-4947-cbfc-4b2534f389fc"
      },
      "execution_count": 11,
      "outputs": [
        {
          "output_type": "stream",
          "name": "stdout",
          "text": [
            "Collecting tensorflow==1.13.2\n",
            "  Downloading tensorflow-1.13.2-cp37-cp37m-manylinux1_x86_64.whl (92.7 MB)\n",
            "\u001b[K     |████████████████████████████████| 92.7 MB 1.2 MB/s \n",
            "\u001b[?25hCollecting keras-applications>=1.0.6\n",
            "  Downloading Keras_Applications-1.0.8-py3-none-any.whl (50 kB)\n",
            "\u001b[K     |████████████████████████████████| 50 kB 6.9 MB/s \n",
            "\u001b[?25hRequirement already satisfied: absl-py>=0.1.6 in /usr/local/lib/python3.7/dist-packages (from tensorflow==1.13.2) (1.0.0)\n",
            "Requirement already satisfied: wheel>=0.26 in /usr/local/lib/python3.7/dist-packages (from tensorflow==1.13.2) (0.37.1)\n",
            "Requirement already satisfied: numpy<2.0,>=1.16.0 in /usr/local/lib/python3.7/dist-packages (from tensorflow==1.13.2) (1.21.6)\n",
            "Requirement already satisfied: astor>=0.6.0 in /usr/local/lib/python3.7/dist-packages (from tensorflow==1.13.2) (0.8.1)\n",
            "Collecting tensorboard<1.14.0,>=1.13.0\n",
            "  Downloading tensorboard-1.13.1-py3-none-any.whl (3.2 MB)\n",
            "\u001b[K     |████████████████████████████████| 3.2 MB 58.5 MB/s \n",
            "\u001b[?25hRequirement already satisfied: six>=1.10.0 in /usr/local/lib/python3.7/dist-packages (from tensorflow==1.13.2) (1.15.0)\n",
            "Collecting tensorflow-estimator<1.14.0rc0,>=1.13.0\n",
            "  Downloading tensorflow_estimator-1.13.0-py2.py3-none-any.whl (367 kB)\n",
            "\u001b[K     |████████████████████████████████| 367 kB 53.3 MB/s \n",
            "\u001b[?25hRequirement already satisfied: grpcio>=1.8.6 in /usr/local/lib/python3.7/dist-packages (from tensorflow==1.13.2) (1.44.0)\n",
            "Requirement already satisfied: protobuf>=3.6.1 in /usr/local/lib/python3.7/dist-packages (from tensorflow==1.13.2) (3.17.3)\n",
            "Requirement already satisfied: keras-preprocessing>=1.0.5 in /usr/local/lib/python3.7/dist-packages (from tensorflow==1.13.2) (1.1.2)\n",
            "Requirement already satisfied: termcolor>=1.1.0 in /usr/local/lib/python3.7/dist-packages (from tensorflow==1.13.2) (1.1.0)\n",
            "Requirement already satisfied: gast>=0.2.0 in /usr/local/lib/python3.7/dist-packages (from tensorflow==1.13.2) (0.5.3)\n",
            "Requirement already satisfied: h5py in /usr/local/lib/python3.7/dist-packages (from keras-applications>=1.0.6->tensorflow==1.13.2) (3.1.0)\n",
            "Requirement already satisfied: markdown>=2.6.8 in /usr/local/lib/python3.7/dist-packages (from tensorboard<1.14.0,>=1.13.0->tensorflow==1.13.2) (3.3.6)\n",
            "Requirement already satisfied: werkzeug>=0.11.15 in /usr/local/lib/python3.7/dist-packages (from tensorboard<1.14.0,>=1.13.0->tensorflow==1.13.2) (1.0.1)\n",
            "Requirement already satisfied: importlib-metadata>=4.4 in /usr/local/lib/python3.7/dist-packages (from markdown>=2.6.8->tensorboard<1.14.0,>=1.13.0->tensorflow==1.13.2) (4.11.3)\n",
            "Requirement already satisfied: zipp>=0.5 in /usr/local/lib/python3.7/dist-packages (from importlib-metadata>=4.4->markdown>=2.6.8->tensorboard<1.14.0,>=1.13.0->tensorflow==1.13.2) (3.8.0)\n",
            "Requirement already satisfied: typing-extensions>=3.6.4 in /usr/local/lib/python3.7/dist-packages (from importlib-metadata>=4.4->markdown>=2.6.8->tensorboard<1.14.0,>=1.13.0->tensorflow==1.13.2) (4.2.0)\n",
            "Collecting mock>=2.0.0\n",
            "  Downloading mock-4.0.3-py3-none-any.whl (28 kB)\n",
            "Requirement already satisfied: cached-property in /usr/local/lib/python3.7/dist-packages (from h5py->keras-applications>=1.0.6->tensorflow==1.13.2) (1.5.2)\n",
            "Installing collected packages: mock, tensorflow-estimator, tensorboard, keras-applications, tensorflow\n",
            "  Attempting uninstall: tensorflow-estimator\n",
            "    Found existing installation: tensorflow-estimator 2.8.0\n",
            "    Uninstalling tensorflow-estimator-2.8.0:\n",
            "      Successfully uninstalled tensorflow-estimator-2.8.0\n",
            "  Attempting uninstall: tensorboard\n",
            "    Found existing installation: tensorboard 2.8.0\n",
            "    Uninstalling tensorboard-2.8.0:\n",
            "      Successfully uninstalled tensorboard-2.8.0\n",
            "\u001b[31mERROR: pip's dependency resolver does not currently take into account all the packages that are installed. This behaviour is the source of the following dependency conflicts.\n",
            "kapre 0.3.7 requires tensorflow>=2.0.0, but you have tensorflow 1.13.2 which is incompatible.\u001b[0m\n",
            "Successfully installed keras-applications-1.0.8 mock-4.0.3 tensorboard-1.13.1 tensorflow-1.13.2 tensorflow-estimator-1.13.0\n"
          ]
        },
        {
          "output_type": "display_data",
          "data": {
            "application/vnd.colab-display-data+json": {
              "pip_warning": {
                "packages": [
                  "tensorboard",
                  "tensorflow"
                ]
              }
            }
          },
          "metadata": {}
        }
      ]
    },
    {
      "cell_type": "code",
      "source": [
        "import tensorflow as tf\n",
        "import os\n",
        "import numpy as np\n",
        "from tensorflow.contrib.training import bucket_by_sequence_length\n",
        "# # from itertools import repeay\n",
        "# yt"
      ],
      "metadata": {
        "id": "zz1sBus5b7cV",
        "colab": {
          "base_uri": "https://localhost:8080/",
          "height": 368
        },
        "outputId": "47b3dd1c-4c5e-431c-ecc3-2f3242338415"
      },
      "execution_count": 9,
      "outputs": [
        {
          "output_type": "error",
          "ename": "ModuleNotFoundError",
          "evalue": "ignored",
          "traceback": [
            "\u001b[0;31m---------------------------------------------------------------------------\u001b[0m",
            "\u001b[0;31mModuleNotFoundError\u001b[0m                       Traceback (most recent call last)",
            "\u001b[0;32m<ipython-input-9-1b91e6321450>\u001b[0m in \u001b[0;36m<module>\u001b[0;34m()\u001b[0m\n\u001b[1;32m      2\u001b[0m \u001b[0;32mimport\u001b[0m \u001b[0mos\u001b[0m\u001b[0;34m\u001b[0m\u001b[0;34m\u001b[0m\u001b[0m\n\u001b[1;32m      3\u001b[0m \u001b[0;32mimport\u001b[0m \u001b[0mnumpy\u001b[0m \u001b[0;32mas\u001b[0m \u001b[0mnp\u001b[0m\u001b[0;34m\u001b[0m\u001b[0;34m\u001b[0m\u001b[0m\n\u001b[0;32m----> 4\u001b[0;31m \u001b[0;32mfrom\u001b[0m \u001b[0mtensorflow\u001b[0m\u001b[0;34m.\u001b[0m\u001b[0mcontrib\u001b[0m\u001b[0;34m.\u001b[0m\u001b[0mtraining\u001b[0m \u001b[0;32mimport\u001b[0m \u001b[0mbucket_by_sequence_length\u001b[0m\u001b[0;34m\u001b[0m\u001b[0;34m\u001b[0m\u001b[0m\n\u001b[0m\u001b[1;32m      5\u001b[0m \u001b[0;31m# # from itertools import repeay\u001b[0m\u001b[0;34m\u001b[0m\u001b[0;34m\u001b[0m\u001b[0;34m\u001b[0m\u001b[0m\n\u001b[1;32m      6\u001b[0m \u001b[0;31m# yt\u001b[0m\u001b[0;34m\u001b[0m\u001b[0;34m\u001b[0m\u001b[0;34m\u001b[0m\u001b[0m\n",
            "\u001b[0;31mModuleNotFoundError\u001b[0m: No module named 'tensorflow.contrib'",
            "",
            "\u001b[0;31m---------------------------------------------------------------------------\u001b[0;32m\nNOTE: If your import is failing due to a missing package, you can\nmanually install dependencies using either !pip or !apt.\n\nTo view examples of installing some common dependencies, click the\n\"Open Examples\" button below.\n\u001b[0;31m---------------------------------------------------------------------------\u001b[0m\n"
          ],
          "errorDetails": {
            "actions": [
              {
                "action": "open_url",
                "actionText": "Open Examples",
                "url": "/notebooks/snippets/importing_libraries.ipynb"
              }
            ]
          }
        }
      ]
    },
    {
      "cell_type": "code",
      "execution_count": null,
      "metadata": {
        "colab": {
          "base_uri": "https://localhost:8080/"
        },
        "id": "IYkQuXvoLot0",
        "outputId": "01e2ce52-ab3b-42f5-ba69-b504f57ae4ce"
      },
      "outputs": [
        {
          "metadata": {
            "tags": null
          },
          "name": "stderr",
          "output_type": "stream",
          "text": [
            "/content/drive/.shortcut-targets-by-id/1IFxH24jnJdKU2y63mQgWulQTQm3Ou62f/Project ML4G/Datasets/COSSMO-master/training_bin/train_cossmo.py:151: YAMLLoadWarning: calling yaml.load() without Loader=... is deprecated, as the default Loader is unsafe. Please read https://msg.pyyaml.org/load for full details.\n",
            "  open(os.path.join(datadir, 'cv_splits.yml'))\n"
          ]
        },
        {
          "metadata": {
            "tags": null
          },
          "name": "stdout",
          "output_type": "stream",
          "text": [
            "INFO:tensorflow:Summary name cossmo_model/conv_0_rna/filters:0/gradient is illegal; using cossmo_model/conv_0_rna/filters_0/gradient instead.\n",
            "INFO:tensorflow:Summary name cossmo_model/conv_0_const_dna/filters:0/gradient is illegal; using cossmo_model/conv_0_const_dna/filters_0/gradient instead.\n",
            "INFO:tensorflow:Summary name cossmo_model/conv_0_alternative_dna/filters:0/gradient is illegal; using cossmo_model/conv_0_alternative_dna/filters_0/gradient instead.\n",
            "INFO:tensorflow:Summary name cossmo_model/conv_1_rna/filters:0/gradient is illegal; using cossmo_model/conv_1_rna/filters_0/gradient instead.\n",
            "INFO:tensorflow:Summary name cossmo_model/conv_1_const_dna/filters:0/gradient is illegal; using cossmo_model/conv_1_const_dna/filters_0/gradient instead.\n",
            "INFO:tensorflow:Summary name cossmo_model/conv_1_alternative_dna/filters:0/gradient is illegal; using cossmo_model/conv_1_alternative_dna/filters_0/gradient instead.\n",
            "INFO:tensorflow:Summary name cossmo_model/conv_2_rna/filters:0/gradient is illegal; using cossmo_model/conv_2_rna/filters_0/gradient instead.\n",
            "INFO:tensorflow:Summary name cossmo_model/conv_2_const_dna/filters:0/gradient is illegal; using cossmo_model/conv_2_const_dna/filters_0/gradient instead.\n",
            "INFO:tensorflow:Summary name cossmo_model/conv_2_alternative_dna/filters:0/gradient is illegal; using cossmo_model/conv_2_alternative_dna/filters_0/gradient instead.\n",
            "INFO:tensorflow:Summary name cossmo_model/conv_3_rna/filters:0/gradient is illegal; using cossmo_model/conv_3_rna/filters_0/gradient instead.\n",
            "INFO:tensorflow:Summary name cossmo_model/conv_3_const_dna/filters:0/gradient is illegal; using cossmo_model/conv_3_const_dna/filters_0/gradient instead.\n",
            "INFO:tensorflow:Summary name cossmo_model/conv_3_alternative_dna/filters:0/gradient is illegal; using cossmo_model/conv_3_alternative_dna/filters_0/gradient instead.\n",
            "INFO:tensorflow:Summary name cossmo_model/scoring_network_fully_connected/fc_0/weights:0/gradient is illegal; using cossmo_model/scoring_network_fully_connected/fc_0/weights_0/gradient instead.\n",
            "INFO:tensorflow:Summary name cossmo_model/scoring_network_fully_connected/fc_1/weights:0/gradient is illegal; using cossmo_model/scoring_network_fully_connected/fc_1/weights_0/gradient instead.\n",
            "INFO:tensorflow:Summary name cossmo_model/fc_final/weights:0/gradient is illegal; using cossmo_model/fc_final/weights_0/gradient instead.\n",
            "INFO:tensorflow:Summary name training/cossmo_model/scoring_network/scoring_network_convnet/conv_0_rna/activation_activation_map:0 is illegal; using training/cossmo_model/scoring_network/scoring_network_convnet/conv_0_rna/activation_activation_map_0 instead.\n",
            "INFO:tensorflow:Summary name training/cossmo_model/scoring_network/scoring_network_convnet/conv_0_const_dna/activation_activation_map:0 is illegal; using training/cossmo_model/scoring_network/scoring_network_convnet/conv_0_const_dna/activation_activation_map_0 instead.\n",
            "INFO:tensorflow:Summary name training/cossmo_model/scoring_network/scoring_network_convnet/conv_0_alternative_dna/activation_activation_map:0 is illegal; using training/cossmo_model/scoring_network/scoring_network_convnet/conv_0_alternative_dna/activation_activation_map_0 instead.\n",
            "INFO:tensorflow:Summary name training/cossmo_model/scoring_network/scoring_network_convnet/conv_1_rna/activation_activation_map:0 is illegal; using training/cossmo_model/scoring_network/scoring_network_convnet/conv_1_rna/activation_activation_map_0 instead.\n",
            "INFO:tensorflow:Summary name training/cossmo_model/scoring_network/scoring_network_convnet/conv_1_const_dna/activation_activation_map:0 is illegal; using training/cossmo_model/scoring_network/scoring_network_convnet/conv_1_const_dna/activation_activation_map_0 instead.\n",
            "INFO:tensorflow:Summary name training/cossmo_model/scoring_network/scoring_network_convnet/conv_1_alternative_dna/activation_activation_map:0 is illegal; using training/cossmo_model/scoring_network/scoring_network_convnet/conv_1_alternative_dna/activation_activation_map_0 instead.\n",
            "INFO:tensorflow:Summary name training/cossmo_model/scoring_network/scoring_network_convnet/conv_2_rna/activation_activation_map:0 is illegal; using training/cossmo_model/scoring_network/scoring_network_convnet/conv_2_rna/activation_activation_map_0 instead.\n",
            "INFO:tensorflow:Summary name training/cossmo_model/scoring_network/scoring_network_convnet/conv_2_const_dna/activation_activation_map:0 is illegal; using training/cossmo_model/scoring_network/scoring_network_convnet/conv_2_const_dna/activation_activation_map_0 instead.\n",
            "INFO:tensorflow:Summary name training/cossmo_model/scoring_network/scoring_network_convnet/conv_2_alternative_dna/activation_activation_map:0 is illegal; using training/cossmo_model/scoring_network/scoring_network_convnet/conv_2_alternative_dna/activation_activation_map_0 instead.\n",
            "INFO:tensorflow:Summary name training/cossmo_model/scoring_network/scoring_network_convnet/conv_3_rna/activation_activation_map:0 is illegal; using training/cossmo_model/scoring_network/scoring_network_convnet/conv_3_rna/activation_activation_map_0 instead.\n",
            "INFO:tensorflow:Summary name training/cossmo_model/scoring_network/scoring_network_convnet/conv_3_const_dna/activation_activation_map:0 is illegal; using training/cossmo_model/scoring_network/scoring_network_convnet/conv_3_const_dna/activation_activation_map_0 instead.\n",
            "INFO:tensorflow:Summary name training/cossmo_model/scoring_network/scoring_network_convnet/conv_3_alternative_dna/activation_activation_map:0 is illegal; using training/cossmo_model/scoring_network/scoring_network_convnet/conv_3_alternative_dna/activation_activation_map_0 instead.\n",
            "INFO:tensorflow:Summary name training/cossmo_model/scoring_network/fc_final/logit_skinny_activation_map:0 is illegal; using training/cossmo_model/scoring_network/fc_final/logit_skinny_activation_map_0 instead.\n",
            "INFO:tensorflow:Summary name PSI pred vs Target is illegal; using PSI_pred_vs_Target instead.\n",
            "INFO:tensorflow:Summary name PSI pred,target vs axis is illegal; using PSI_pred_target_vs_axis instead.\n"
          ]
        },
        {
          "metadata": {
            "tags": null
          },
          "name": "stderr",
          "output_type": "stream",
          "text": [
            "/content/drive/.shortcut-targets-by-id/1IFxH24jnJdKU2y63mQgWulQTQm3Ou62f/Project ML4G/Datasets/COSSMO-master/training_bin/train_cossmo.py:283: YAMLLoadWarning: calling yaml.load() without Loader=... is deprecated, as the default Loader is unsafe. Please read https://msg.pyyaml.org/load for full details.\n",
            "  performance = yaml.load(open(performance_file))\n"
          ]
        },
        {
          "metadata": {
            "tags": null
          },
          "name": "stdout",
          "output_type": "stream",
          "text": [
            "INFO:tensorflow:Restoring parameters from /content/drive/MyDrive/Project ML4G/Datasets/cossmo-acceptor-data.tar (Unzipped Files)/basic_cossmo/model.ckpt-110000\n",
            "INFO:tensorflow:Running local_init_op.\n",
            "INFO:tensorflow:Done running local_init_op.\n",
            "INFO:tensorflow:Starting standard services.\n",
            "INFO:tensorflow:Saving checkpoint to path /content/drive/MyDrive/Project ML4G/Datasets/cossmo-acceptor-data.tar (Unzipped Files)/basic_cossmo/model.ckpt\n",
            "INFO:tensorflow:Starting queue runners.\n",
            "INFO:tensorflow:Recording summary at step 110008.\n",
            "INFO:tensorflow:Recording summary at step 110907.\n",
            "Step: 111000, Loss: 1.473860502243042, Accuracy: 0.5464535355567932, Speed: 636.7928439888943 SS/s\n",
            "INFO:tensorflow:Recording summary at step 111826.\n",
            "Step: 112000, Loss: 1.390799880027771, Accuracy: 0.5647686123847961, Speed: 681.6642445437517 SS/s\n",
            "INFO:tensorflow:Recording summary at step 112745.\n",
            "Step: 113000, Loss: 1.5217370986938477, Accuracy: 0.5359640121459961, Speed: 702.407247511532 SS/s\n",
            "INFO:tensorflow:Recording summary at step 113670.\n",
            "Step: 114000, Loss: 1.593051552772522, Accuracy: 0.5039960145950317, Speed: 720.128437614897 SS/s\n",
            "INFO:tensorflow:Saving checkpoint to path /content/drive/MyDrive/Project ML4G/Datasets/cossmo-acceptor-data.tar (Unzipped Files)/basic_cossmo/model.ckpt\n",
            "INFO:tensorflow:Recording summary at step 114533.\n",
            "Step: 115000, Loss: 1.6637552976608276, Accuracy: 0.46869799494743347, Speed: 712.1772861671734 SS/s\n",
            "Starting validation...\n",
            "INFO:tensorflow:Recording summary at step 115000.\n",
            "Validation accuracy: 0.511, Top-5 accuracy:0.868, Top-2 accuracy:0.695, Loss: 1.675\n",
            "INFO:tensorflow:Recording summary at step 115649.\n",
            "Step: 116000, Loss: 1.6314066648483276, Accuracy: 0.4686979651451111, Speed: 698.9195408215526 SS/s\n",
            "INFO:tensorflow:Recording summary at step 116510.\n"
          ]
        }
      ],
      "source": [
        "c.main(configuration = config1, continue_from=None, intra_op_threads=2, inter_op_threads=6, test_only=False)"
      ]
    },
    {
      "cell_type": "code",
      "source": [
        "pip install transformers\n"
      ],
      "metadata": {
        "colab": {
          "base_uri": "https://localhost:8080/",
          "height": 990
        },
        "id": "Y5tp8ouQ2ItE",
        "outputId": "bfe367b9-d107-4154-ae01-712a4f317351"
      },
      "execution_count": 12,
      "outputs": [
        {
          "output_type": "stream",
          "name": "stdout",
          "text": [
            "Collecting transformers\n",
            "  Downloading transformers-4.18.0-py3-none-any.whl (4.0 MB)\n",
            "\u001b[K     |████████████████████████████████| 4.0 MB 22.8 MB/s \n",
            "\u001b[?25hCollecting tokenizers!=0.11.3,<0.13,>=0.11.1\n",
            "  Downloading tokenizers-0.12.1-cp37-cp37m-manylinux_2_12_x86_64.manylinux2010_x86_64.whl (6.6 MB)\n",
            "\u001b[K     |████████████████████████████████| 6.6 MB 40.6 MB/s \n",
            "\u001b[?25hRequirement already satisfied: tqdm>=4.27 in /usr/local/lib/python3.7/dist-packages (from transformers) (4.64.0)\n",
            "Collecting sacremoses\n",
            "  Downloading sacremoses-0.0.50.tar.gz (880 kB)\n",
            "\u001b[K     |████████████████████████████████| 880 kB 46.6 MB/s \n",
            "\u001b[?25hRequirement already satisfied: regex!=2019.12.17 in /usr/local/lib/python3.7/dist-packages (from transformers) (2019.12.20)\n",
            "Requirement already satisfied: packaging>=20.0 in /usr/local/lib/python3.7/dist-packages (from transformers) (21.3)\n",
            "Requirement already satisfied: numpy>=1.17 in /usr/local/lib/python3.7/dist-packages (from transformers) (1.21.6)\n",
            "Requirement already satisfied: requests in /usr/local/lib/python3.7/dist-packages (from transformers) (2.23.0)\n",
            "Collecting huggingface-hub<1.0,>=0.1.0\n",
            "  Downloading huggingface_hub-0.5.1-py3-none-any.whl (77 kB)\n",
            "\u001b[K     |████████████████████████████████| 77 kB 6.3 MB/s \n",
            "\u001b[?25hCollecting pyyaml>=5.1\n",
            "  Downloading PyYAML-6.0-cp37-cp37m-manylinux_2_5_x86_64.manylinux1_x86_64.manylinux_2_12_x86_64.manylinux2010_x86_64.whl (596 kB)\n",
            "\u001b[K     |████████████████████████████████| 596 kB 57.0 MB/s \n",
            "\u001b[?25hRequirement already satisfied: importlib-metadata in /usr/local/lib/python3.7/dist-packages (from transformers) (4.11.3)\n",
            "Requirement already satisfied: filelock in /usr/local/lib/python3.7/dist-packages (from transformers) (3.6.0)\n",
            "Requirement already satisfied: typing-extensions>=3.7.4.3 in /usr/local/lib/python3.7/dist-packages (from huggingface-hub<1.0,>=0.1.0->transformers) (4.2.0)\n",
            "Requirement already satisfied: pyparsing!=3.0.5,>=2.0.2 in /usr/local/lib/python3.7/dist-packages (from packaging>=20.0->transformers) (3.0.8)\n",
            "Requirement already satisfied: zipp>=0.5 in /usr/local/lib/python3.7/dist-packages (from importlib-metadata->transformers) (3.8.0)\n",
            "Requirement already satisfied: certifi>=2017.4.17 in /usr/local/lib/python3.7/dist-packages (from requests->transformers) (2021.10.8)\n",
            "Requirement already satisfied: urllib3!=1.25.0,!=1.25.1,<1.26,>=1.21.1 in /usr/local/lib/python3.7/dist-packages (from requests->transformers) (1.24.3)\n",
            "Requirement already satisfied: chardet<4,>=3.0.2 in /usr/local/lib/python3.7/dist-packages (from requests->transformers) (3.0.4)\n",
            "Requirement already satisfied: idna<3,>=2.5 in /usr/local/lib/python3.7/dist-packages (from requests->transformers) (2.10)\n",
            "Requirement already satisfied: six in /usr/local/lib/python3.7/dist-packages (from sacremoses->transformers) (1.15.0)\n",
            "Collecting click==8.0\n",
            "  Downloading click-8.0.0-py3-none-any.whl (96 kB)\n",
            "\u001b[K     |████████████████████████████████| 96 kB 5.5 MB/s \n",
            "\u001b[?25hRequirement already satisfied: joblib in /usr/local/lib/python3.7/dist-packages (from sacremoses->transformers) (1.1.0)\n",
            "Building wheels for collected packages: sacremoses\n",
            "  Building wheel for sacremoses (setup.py) ... \u001b[?25l\u001b[?25hdone\n",
            "  Created wheel for sacremoses: filename=sacremoses-0.0.50-py3-none-any.whl size=895166 sha256=7ac32e264c097ba770973123dc67a94ac77d807cccbd346504434803fc279911\n",
            "  Stored in directory: /root/.cache/pip/wheels/d9/72/54/519f0d5143cc6c73fa3297509123c86fc8586a7fdea8d25311\n",
            "Successfully built sacremoses\n",
            "Installing collected packages: pyyaml, click, tokenizers, sacremoses, huggingface-hub, transformers\n",
            "  Attempting uninstall: pyyaml\n",
            "    Found existing installation: PyYAML 3.13\n",
            "    Uninstalling PyYAML-3.13:\n",
            "      Successfully uninstalled PyYAML-3.13\n",
            "  Attempting uninstall: click\n",
            "    Found existing installation: click 7.1.2\n",
            "    Uninstalling click-7.1.2:\n",
            "      Successfully uninstalled click-7.1.2\n",
            "\u001b[31mERROR: pip's dependency resolver does not currently take into account all the packages that are installed. This behaviour is the source of the following dependency conflicts.\n",
            "flask 1.1.4 requires click<8.0,>=5.1, but you have click 8.0.0 which is incompatible.\u001b[0m\n",
            "Successfully installed click-8.0.0 huggingface-hub-0.5.1 pyyaml-6.0 sacremoses-0.0.50 tokenizers-0.12.1 transformers-4.18.0\n"
          ]
        },
        {
          "output_type": "display_data",
          "data": {
            "application/vnd.colab-display-data+json": {
              "pip_warning": {
                "packages": [
                  "yaml"
                ]
              }
            }
          },
          "metadata": {}
        }
      ]
    },
    {
      "cell_type": "code",
      "source": [
        ""
      ],
      "metadata": {
        "id": "MMr4kwLhotvg"
      },
      "execution_count": null,
      "outputs": []
    }
  ],
  "metadata": {
    "colab": {
      "collapsed_sections": [],
      "name": "Try 3.ipynb",
      "provenance": []
    },
    "kernelspec": {
      "display_name": "Python 3",
      "name": "python3"
    },
    "language_info": {
      "name": "python"
    }
  },
  "nbformat": 4,
  "nbformat_minor": 0
}